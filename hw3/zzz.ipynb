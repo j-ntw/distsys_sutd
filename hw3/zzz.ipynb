{
 "cells": [
  {
   "cell_type": "code",
   "execution_count": 6,
   "metadata": {},
   "outputs": [
    {
     "name": "stdout",
     "output_type": "stream",
     "text": [
      "0\n",
      "2\n",
      "4\n"
     ]
    }
   ],
   "source": [
    "numProcesses = 3\n",
    "numPages = 10\n",
    "id = 1\n",
    "for i in range(numProcesses):\n",
    "\t# 0,1,2\n",
    "    print(id * i + i)"
   ]
  },
  {
   "cell_type": "code",
   "execution_count": 7,
   "metadata": {},
   "outputs": [
    {
     "name": "stdout",
     "output_type": "stream",
     "text": [
      "[[0, 1, 2], [3, 4, 5], [6, 7, 8], [9]]\n"
     ]
    }
   ],
   "source": [
    "def split_pages(numPages, numProcesses):\n",
    "    # Calculate the size of each subarray\n",
    "    subarray_size = numPages // numProcesses\n",
    "\n",
    "    # Initialize the result array\n",
    "    result = []\n",
    "\n",
    "    # Split the pages into consecutive subarrays\n",
    "    for i in range(0, numPages, subarray_size):\n",
    "        subarray = list(range(i, min(i + subarray_size, numPages)))\n",
    "        result.append(subarray)\n",
    "\n",
    "    return result\n",
    "\n",
    "# Example usage:\n",
    "numProcesses = 3\n",
    "numPages = 10\n",
    "\n",
    "result_array = split_pages(numPages, numProcesses)\n",
    "print(result_array)\n"
   ]
  },
  {
   "cell_type": "code",
   "execution_count": 8,
   "metadata": {},
   "outputs": [
    {
     "name": "stdout",
     "output_type": "stream",
     "text": [
      "Subarray for id 1: [3, 4, 5]\n"
     ]
    }
   ],
   "source": [
    "def get_subarray_indexes(numPages, numProcesses, id):\n",
    "    # Calculate the size of each subarray\n",
    "    subarray_size = numPages // numProcesses\n",
    "\n",
    "    # Calculate the start index of the subarray that includes the specified id\n",
    "    start_index = (id * subarray_size) % numPages\n",
    "\n",
    "    # Calculate the end index of the subarray\n",
    "    end_index = min(start_index + subarray_size, numPages)\n",
    "\n",
    "    return start_index, end_index\n",
    "\n",
    "# Example usage:\n",
    "numProcesses = 3\n",
    "numPages = 10\n",
    "id_to_find = 1\n",
    "\n",
    "start_index, end_index = get_subarray_indexes(numPages, numProcesses, id_to_find)\n",
    "print(f\"Subarray for id {id_to_find}: {list(range(start_index, end_index))}\")\n"
   ]
  },
  {
   "cell_type": "code",
   "execution_count": 10,
   "metadata": {},
   "outputs": [
    {
     "data": {
      "text/plain": [
       "3"
      ]
     },
     "execution_count": 10,
     "metadata": {},
     "output_type": "execute_result"
    }
   ],
   "source": [
    "subarray_size = numPages // numProcesses\n",
    "subarray_size"
   ]
  },
  {
   "cell_type": "code",
   "execution_count": 22,
   "metadata": {},
   "outputs": [
    {
     "data": {
      "text/plain": [
       "2"
      ]
     },
     "execution_count": 22,
     "metadata": {},
     "output_type": "execute_result"
    }
   ],
   "source": [
    "7// subarray_size"
   ]
  },
  {
   "cell_type": "code",
   "execution_count": null,
   "metadata": {},
   "outputs": [],
   "source": []
  }
 ],
 "metadata": {
  "kernelspec": {
   "display_name": "Python 3",
   "language": "python",
   "name": "python3"
  },
  "language_info": {
   "codemirror_mode": {
    "name": "ipython",
    "version": 3
   },
   "file_extension": ".py",
   "mimetype": "text/x-python",
   "name": "python",
   "nbconvert_exporter": "python",
   "pygments_lexer": "ipython3",
   "version": "3.10.12"
  }
 },
 "nbformat": 4,
 "nbformat_minor": 2
}
